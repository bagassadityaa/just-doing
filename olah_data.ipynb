{
 "cells": [
  {
   "cell_type": "code",
   "execution_count": null,
   "id": "4015301f",
   "metadata": {},
   "outputs": [],
   "source": [
    "# Langkah 1: Import library\n",
    "import pandas as pd\n",
    "\n",
    "# Langkah 2: Load data\n",
    "df = pd.read_csv(\"cleaned_tweets.csv\")\n",
    "\n",
    "# Langkah 3: Tampilkan data awal\n",
    "print(\"Data Awal:\")\n",
    "display(df.head(10))  # Tampilkan 10 baris pertama\n",
    "\n",
    "# Langkah 4: Cek jumlah baris sebelum pembersihan\n",
    "print(f\"Jumlah tweet sebelum hapus duplikat: {len(df)}\")\n",
    "\n",
    "# Langkah 5: Hapus duplikat (berdasarkan kolom cleaned)\n",
    "df_cleaned = df.drop_duplicates(subset='cleaned').reset_index(drop=True)\n",
    "\n",
    "# Langkah 6: Cek jumlah baris setelah hapus duplikat\n",
    "print(f\"Jumlah tweet setelah hapus duplikat: {len(df_cleaned)}\")\n",
    "\n",
    "# Langkah 7: Simpan data final ke CSV\n",
    "df_cleaned.to_csv(\"final_cleaned_tweets.csv\", index=False)\n",
    "\n",
    "# Langkah 8: Tampilkan data final sebagai tabel\n",
    "print(\"Data Final (Sudah Bersih dan Tidak Duplikat):\")\n",
    "display(df_cleaned.head(10))\n"
   ]
  }
 ],
 "metadata": {
  "language_info": {
   "name": "python"
  }
 },
 "nbformat": 4,
 "nbformat_minor": 5
}
